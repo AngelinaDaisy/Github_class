{
  "nbformat": 4,
  "nbformat_minor": 0,
  "metadata": {
    "colab": {
      "name": "git_test.ipynb",
      "provenance": []
    },
    "kernelspec": {
      "name": "python3",
      "display_name": "Python 3"
    },
    "language_info": {
      "name": "python"
    }
  },
  "cells": [
    {
      "cell_type": "code",
      "execution_count": 1,
      "metadata": {
        "colab": {
          "base_uri": "https://localhost:8080/"
        },
        "id": "dlNr2Dwq3EOF",
        "outputId": "aa202886-214c-4afe-b412-3c0ad8a61d52"
      },
      "outputs": [
        {
          "output_type": "stream",
          "name": "stdout",
          "text": [
            "Testing git and github\n"
          ]
        }
      ],
      "source": [
        "print(\"Testing git and github\")"
      ]
    },
    {
      "cell_type": "code",
      "source": [
        "1+3+8"
      ],
      "metadata": {
        "id": "XkcNIMzE3Ojo",
        "outputId": "fd1d6b5b-6a90-4f33-e5b2-d3bf905d5359",
        "colab": {
          "base_uri": "https://localhost:8080/"
        }
      },
      "execution_count": 2,
      "outputs": [
        {
          "output_type": "execute_result",
          "data": {
            "text/plain": [
              "12"
            ]
          },
          "metadata": {},
          "execution_count": 2
        }
      ]
    },
    {
      "cell_type": "code",
      "source": [
        ""
      ],
      "metadata": {
        "id": "U1fN7AME3RHl"
      },
      "execution_count": null,
      "outputs": []
    }
  ]
}